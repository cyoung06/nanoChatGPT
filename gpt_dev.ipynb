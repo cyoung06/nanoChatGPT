{
  "nbformat": 4,
  "nbformat_minor": 0,
  "metadata": {
    "colab": {
      "provenance": [],
      "authorship_tag": "ABX9TyNUYbHEPYZi2Bjpz1pHwpoK",
      "include_colab_link": true
    },
    "kernelspec": {
      "name": "python3",
      "display_name": "Python 3"
    },
    "language_info": {
      "name": "python"
    }
  },
  "cells": [
    {
      "cell_type": "markdown",
      "metadata": {
        "id": "view-in-github",
        "colab_type": "text"
      },
      "source": [
        "<a href=\"https://colab.research.google.com/github/yoonhero/nanoGPT/blob/master/gpt_dev.ipynb\" target=\"_parent\"><img src=\"https://colab.research.google.com/assets/colab-badge.svg\" alt=\"Open In Colab\"/></a>"
      ]
    },
    {
      "cell_type": "code",
      "execution_count": 1,
      "metadata": {
        "colab": {
          "base_uri": "https://localhost:8080/"
        },
        "id": "nlc5FunGBVkA",
        "outputId": "ac02231e-a6f7-4bf6-970d-4c3a53a14990"
      },
      "outputs": [
        {
          "output_type": "stream",
          "name": "stdout",
          "text": [
            "--2023-03-11 14:14:39--  https://raw.githubusercontent.com/karpathy/char-rnn/master/data/tinyshakespeare/input.txt\n",
            "Resolving raw.githubusercontent.com (raw.githubusercontent.com)... 185.199.108.133, 185.199.110.133, 185.199.109.133, ...\n",
            "Connecting to raw.githubusercontent.com (raw.githubusercontent.com)|185.199.108.133|:443... connected.\n",
            "HTTP request sent, awaiting response... 200 OK\n",
            "Length: 1115394 (1.1M) [text/plain]\n",
            "Saving to: ‘input.txt’\n",
            "\n",
            "input.txt           100%[===================>]   1.06M  --.-KB/s    in 0.05s   \n",
            "\n",
            "2023-03-11 14:14:39 (20.3 MB/s) - ‘input.txt’ saved [1115394/1115394]\n",
            "\n"
          ]
        }
      ],
      "source": [
        "!wget https://raw.githubusercontent.com/karpathy/char-rnn/master/data/tinyshakespeare/input.txt"
      ]
    },
    {
      "cell_type": "code",
      "source": [
        "with open(\"input.txt\", \"r\", encoding=\"utf-8\") as f:\n",
        "    text = f.read()"
      ],
      "metadata": {
        "id": "UDRPCxHHBd-a"
      },
      "execution_count": 2,
      "outputs": []
    },
    {
      "cell_type": "code",
      "source": [
        "len(text)"
      ],
      "metadata": {
        "colab": {
          "base_uri": "https://localhost:8080/"
        },
        "id": "dZB8Bjo-BpCa",
        "outputId": "8869c145-e3a3-48de-f736-57f923a21a8a"
      },
      "execution_count": 3,
      "outputs": [
        {
          "output_type": "execute_result",
          "data": {
            "text/plain": [
              "1115394"
            ]
          },
          "metadata": {},
          "execution_count": 3
        }
      ]
    },
    {
      "cell_type": "code",
      "source": [
        "print(text[:1000])"
      ],
      "metadata": {
        "colab": {
          "base_uri": "https://localhost:8080/"
        },
        "id": "83CxjITTBruF",
        "outputId": "892d1d20-321d-4ea9-8224-b4e2ce88858e"
      },
      "execution_count": 4,
      "outputs": [
        {
          "output_type": "stream",
          "name": "stdout",
          "text": [
            "First Citizen:\n",
            "Before we proceed any further, hear me speak.\n",
            "\n",
            "All:\n",
            "Speak, speak.\n",
            "\n",
            "First Citizen:\n",
            "You are all resolved rather to die than to famish?\n",
            "\n",
            "All:\n",
            "Resolved. resolved.\n",
            "\n",
            "First Citizen:\n",
            "First, you know Caius Marcius is chief enemy to the people.\n",
            "\n",
            "All:\n",
            "We know't, we know't.\n",
            "\n",
            "First Citizen:\n",
            "Let us kill him, and we'll have corn at our own price.\n",
            "Is't a verdict?\n",
            "\n",
            "All:\n",
            "No more talking on't; let it be done: away, away!\n",
            "\n",
            "Second Citizen:\n",
            "One word, good citizens.\n",
            "\n",
            "First Citizen:\n",
            "We are accounted poor citizens, the patricians good.\n",
            "What authority surfeits on would relieve us: if they\n",
            "would yield us but the superfluity, while it were\n",
            "wholesome, we might guess they relieved us humanely;\n",
            "but they think we are too dear: the leanness that\n",
            "afflicts us, the object of our misery, is as an\n",
            "inventory to particularise their abundance; our\n",
            "sufferance is a gain to them Let us revenge this with\n",
            "our pikes, ere we become rakes: for the gods know I\n",
            "speak this in hunger for bread, not in thirst for revenge.\n",
            "\n",
            "\n"
          ]
        }
      ]
    },
    {
      "cell_type": "code",
      "source": [
        "chars = sorted(list(set(text)))\n",
        "vocab_size = len(chars)\n",
        "print(\"\".join(chars))\n",
        "print(vocab_size)"
      ],
      "metadata": {
        "colab": {
          "base_uri": "https://localhost:8080/"
        },
        "id": "gjRaoS-WBuFu",
        "outputId": "b5e5b1bc-ab2b-4d9e-81f8-434a1cd9bdf1"
      },
      "execution_count": 5,
      "outputs": [
        {
          "output_type": "stream",
          "name": "stdout",
          "text": [
            "\n",
            " !$&',-.3:;?ABCDEFGHIJKLMNOPQRSTUVWXYZabcdefghijklmnopqrstuvwxyz\n",
            "65\n"
          ]
        }
      ]
    },
    {
      "cell_type": "code",
      "source": [
        "# string to index\n",
        "stoi = {char:i for i, char in enumerate(chars)}\n",
        "itos = {i:char for i, char in enumerate(chars)}\n",
        "encode = lambda s: [stoi[c] for c in s]\n",
        "decode = lambda l: \"\".join([itos[i] for i in l])\n",
        "\n",
        "print(encode(\"hello\"))\n",
        "print(decode(encode(\"wow\")))"
      ],
      "metadata": {
        "colab": {
          "base_uri": "https://localhost:8080/"
        },
        "id": "-0YJNGcLB2qs",
        "outputId": "7ea9022c-c41a-4b49-d94c-c54ff3b4a25b"
      },
      "execution_count": 7,
      "outputs": [
        {
          "output_type": "stream",
          "name": "stdout",
          "text": [
            "[46, 43, 50, 50, 53]\n",
            "wow\n"
          ]
        }
      ]
    },
    {
      "cell_type": "code",
      "source": [
        "import torch\n",
        "data = torch.tensor(encode(text), dtype=torch.long)\n",
        "print(data.shape, data.dtype)\n",
        "print(data[:100])"
      ],
      "metadata": {
        "colab": {
          "base_uri": "https://localhost:8080/"
        },
        "id": "oSWlJaO0Cdx9",
        "outputId": "98398ecd-d937-4f14-a50b-02711fbe59d2"
      },
      "execution_count": 9,
      "outputs": [
        {
          "output_type": "stream",
          "name": "stdout",
          "text": [
            "torch.Size([1115394]) torch.int64\n",
            "tensor([18, 47, 56, 57, 58,  1, 15, 47, 58, 47, 64, 43, 52, 10,  0, 14, 43, 44,\n",
            "        53, 56, 43,  1, 61, 43,  1, 54, 56, 53, 41, 43, 43, 42,  1, 39, 52, 63,\n",
            "         1, 44, 59, 56, 58, 46, 43, 56,  6,  1, 46, 43, 39, 56,  1, 51, 43,  1,\n",
            "        57, 54, 43, 39, 49,  8,  0,  0, 13, 50, 50, 10,  0, 31, 54, 43, 39, 49,\n",
            "         6,  1, 57, 54, 43, 39, 49,  8,  0,  0, 18, 47, 56, 57, 58,  1, 15, 47,\n",
            "        58, 47, 64, 43, 52, 10,  0, 37, 53, 59])\n"
          ]
        }
      ]
    },
    {
      "cell_type": "code",
      "source": [
        "n = int(0.9 * len(data))\n",
        "train_data = data[:n]\n",
        "val_data = data[n:]"
      ],
      "metadata": {
        "id": "Auc7-ktwDkur"
      },
      "execution_count": 10,
      "outputs": []
    },
    {
      "cell_type": "code",
      "source": [
        "block_size = 8\n",
        "train_data[:block_size+1]"
      ],
      "metadata": {
        "colab": {
          "base_uri": "https://localhost:8080/"
        },
        "id": "KlLaFKGsD7H3",
        "outputId": "34e304f4-ffdb-41e7-b8bf-1281a0d2603b"
      },
      "execution_count": 11,
      "outputs": [
        {
          "output_type": "execute_result",
          "data": {
            "text/plain": [
              "tensor([18, 47, 56, 57, 58,  1, 15, 47, 58])"
            ]
          },
          "metadata": {},
          "execution_count": 11
        }
      ]
    },
    {
      "cell_type": "code",
      "source": [
        "x = train_data[:block_size]\n",
        "y = train_data[1:block_size+1]\n",
        "for t in range(block_size):\n",
        "    context = x[:t+1]\n",
        "    target = y[t]\n",
        "    print(f'context: {context} target: {target}')"
      ],
      "metadata": {
        "colab": {
          "base_uri": "https://localhost:8080/"
        },
        "id": "d3YGFNWxEXJL",
        "outputId": "2b672e43-f1b1-468b-f53e-fb7f82cbe25e"
      },
      "execution_count": 12,
      "outputs": [
        {
          "output_type": "stream",
          "name": "stdout",
          "text": [
            "context: tensor([18]) target: 47\n",
            "context: tensor([18, 47]) target: 56\n",
            "context: tensor([18, 47, 56]) target: 57\n",
            "context: tensor([18, 47, 56, 57]) target: 58\n",
            "context: tensor([18, 47, 56, 57, 58]) target: 1\n",
            "context: tensor([18, 47, 56, 57, 58,  1]) target: 15\n",
            "context: tensor([18, 47, 56, 57, 58,  1, 15]) target: 47\n",
            "context: tensor([18, 47, 56, 57, 58,  1, 15, 47]) target: 58\n"
          ]
        }
      ]
    },
    {
      "cell_type": "code",
      "source": [
        "batch_size = 4\n",
        "block_size = 8\n",
        "\n",
        "def get_batch(split):\n",
        "    # generate a small batch of data of inputs x and targets y\n",
        "    data = train_data if split == \"train\" else val_data\n",
        "    ix = torch.randint(len(data) - block_size, (batch_size, ))\n",
        "    x = torch.stack([data[i:i+block_size] for i in ix])\n",
        "    y = torch.stack([data[i+1: i+block_size+1] for i in ix])\n",
        "    return x, y\n",
        "\n",
        "xb, yb = get_batch(\"train\")\n",
        "print(xb.shape)\n",
        "print(xb)\n",
        "print(yb.shape)\n",
        "print(yb)\n",
        "\n",
        "print(\"------\")\n",
        "\n",
        "for b in range(batch_size):\n",
        "    for t in range(block_size):\n",
        "        context = xb[b, :t+1]\n",
        "        target = yb[b, t]\n",
        "        print(f\"when input is {context.tolist()} the target: {target}\")"
      ],
      "metadata": {
        "colab": {
          "base_uri": "https://localhost:8080/"
        },
        "id": "nlzLjlUsEuu5",
        "outputId": "38becb1f-1344-4f06-c8c0-650ae212a1b8"
      },
      "execution_count": 14,
      "outputs": [
        {
          "output_type": "stream",
          "name": "stdout",
          "text": [
            "torch.Size([4, 8])\n",
            "tensor([[45,  1, 25, 53, 52, 58, 39, 45],\n",
            "        [51, 63,  1, 57, 61, 53, 56, 42],\n",
            "        [61,  1,  5, 44, 53, 56,  1, 58],\n",
            "        [54, 39, 57, 57,  1, 57, 61, 43]])\n",
            "torch.Size([4, 8])\n",
            "tensor([[ 1, 25, 53, 52, 58, 39, 45, 59],\n",
            "        [63,  1, 57, 61, 53, 56, 42,  6],\n",
            "        [ 1,  5, 44, 53, 56,  1, 58, 46],\n",
            "        [39, 57, 57,  1, 57, 61, 43, 43]])\n",
            "------\n",
            "when input is [45] the target: 1\n",
            "when input is [45, 1] the target: 25\n",
            "when input is [45, 1, 25] the target: 53\n",
            "when input is [45, 1, 25, 53] the target: 52\n",
            "when input is [45, 1, 25, 53, 52] the target: 58\n",
            "when input is [45, 1, 25, 53, 52, 58] the target: 39\n",
            "when input is [45, 1, 25, 53, 52, 58, 39] the target: 45\n",
            "when input is [45, 1, 25, 53, 52, 58, 39, 45] the target: 59\n",
            "when input is [51] the target: 63\n",
            "when input is [51, 63] the target: 1\n",
            "when input is [51, 63, 1] the target: 57\n",
            "when input is [51, 63, 1, 57] the target: 61\n",
            "when input is [51, 63, 1, 57, 61] the target: 53\n",
            "when input is [51, 63, 1, 57, 61, 53] the target: 56\n",
            "when input is [51, 63, 1, 57, 61, 53, 56] the target: 42\n",
            "when input is [51, 63, 1, 57, 61, 53, 56, 42] the target: 6\n",
            "when input is [61] the target: 1\n",
            "when input is [61, 1] the target: 5\n",
            "when input is [61, 1, 5] the target: 44\n",
            "when input is [61, 1, 5, 44] the target: 53\n",
            "when input is [61, 1, 5, 44, 53] the target: 56\n",
            "when input is [61, 1, 5, 44, 53, 56] the target: 1\n",
            "when input is [61, 1, 5, 44, 53, 56, 1] the target: 58\n",
            "when input is [61, 1, 5, 44, 53, 56, 1, 58] the target: 46\n",
            "when input is [54] the target: 39\n",
            "when input is [54, 39] the target: 57\n",
            "when input is [54, 39, 57] the target: 57\n",
            "when input is [54, 39, 57, 57] the target: 1\n",
            "when input is [54, 39, 57, 57, 1] the target: 57\n",
            "when input is [54, 39, 57, 57, 1, 57] the target: 61\n",
            "when input is [54, 39, 57, 57, 1, 57, 61] the target: 43\n",
            "when input is [54, 39, 57, 57, 1, 57, 61, 43] the target: 43\n"
          ]
        }
      ]
    },
    {
      "cell_type": "code",
      "source": [
        "import torch\n",
        "import torch.nn as nn\n",
        "import torch.nn.functional as F\n",
        "\n",
        "class BigramLanguageModel(nn.Module):\n",
        "    def __init__(self, vocab_size):\n",
        "        super().__init__()\n",
        "        # each toekn directly reads off the logits for the next token from a lookup table\n",
        "        self.token_embedding_table = nn.Embedding(vocab_size, vocab_size)\n",
        "    \n",
        "    def forward(self, idx, targets=None):\n",
        "        # idx and targets are both (B, T) tensor of integes\n",
        "        # C is the Channel which represents the embedding table output size\n",
        "        # when we pass the idx to the token embedding table \n",
        "        # we get a embedidng tensor by the idx and get by one by one\n",
        "        logits = self.token_embedding_table(idx) # (B, T, C)\n",
        "\n",
        "        if targets is None:\n",
        "            loss = None\n",
        "        else:\n",
        "            B, T, C = logits.shape\n",
        "            logits = logits.view(B*T, C)\n",
        "            targets = targets.view(B*T)\n",
        "            loss = F.cross_entropy(logits, targets)\n",
        "\n",
        "        return logits, loss\n",
        "\n",
        "    def generate(self, idx, max_new_tokens):\n",
        "        for _ in range(max_new_tokens):\n",
        "            # get the prediction\n",
        "            logits, loss = self(idx)\n",
        "            # focus only on the last time step\n",
        "            logits = logits[:, -1, :] # becomes (B, C)\n",
        "            # apply softmax to get probabilities\n",
        "            probs = F.softmax(logits, dim=-1)\n",
        "            # sample from the distribution\n",
        "            idx_next = torch.multinomial(probs, num_samples=1) # (B, 1)\n",
        "            # append sample index to the running sequnce\n",
        "            idx = torch.cat((idx, idx_next), dim=1) # (B, T+1)\n",
        "        return idx\n",
        "\n",
        "m = BigramLanguageModel(vocab_size)\n",
        "out, loss = m(xb, yb)\n",
        "print(out.shape)\n",
        "print(loss.item())\n",
        "idx = torch.zeros((1, 1), dtype=torch.long)\n",
        "print(decode(m.generate(idx, max_new_tokens=100)[0].tolist()))"
      ],
      "metadata": {
        "colab": {
          "base_uri": "https://localhost:8080/"
        },
        "id": "vS_fzG2-FtjS",
        "outputId": "4b071c19-16f8-45be-a9e0-a31a0e2a62f3"
      },
      "execution_count": 26,
      "outputs": [
        {
          "output_type": "stream",
          "name": "stdout",
          "text": [
            "torch.Size([32, 65])\n",
            "4.446467876434326\n",
            "\n",
            "tB!!FgBr:&CiyVGX\n",
            "w?,gMUtbAH\n",
            ";Tn.?JWYN&,QT.rw&EZGBm!V.t;X.'J:$iQTq-cgFrpAn-?ZsQtvVuWFO,aN$cTnsCx'qiSg\n"
          ]
        }
      ]
    },
    {
      "cell_type": "code",
      "source": [
        "optimizer = torch.optim.AdamW(m.parameters(), lr=1e-2)"
      ],
      "metadata": {
        "id": "dbKtF7v3Gp3G"
      },
      "execution_count": 31,
      "outputs": []
    },
    {
      "cell_type": "code",
      "source": [
        "batch_size = 32\n",
        "for steps in range(1000):\n",
        "    xb, yb = get_batch(\"train\")\n",
        "\n",
        "    logits, loss = m(xb, yb)\n",
        "    optimizer.zero_grad(set_to_none=True)\n",
        "    loss.backward()\n",
        "    optimizer.step()\n",
        "\n",
        "print(loss.item())"
      ],
      "metadata": {
        "colab": {
          "base_uri": "https://localhost:8080/"
        },
        "id": "oyh3qdmDNbYD",
        "outputId": "8d7ffeef-1292-459d-98dd-c71eb2cf926e"
      },
      "execution_count": 44,
      "outputs": [
        {
          "output_type": "stream",
          "name": "stdout",
          "text": [
            "2.5274710655212402\n"
          ]
        }
      ]
    },
    {
      "cell_type": "code",
      "source": [
        "idx = torch.zeros((1, 1), dtype=torch.long)\n",
        "print(decode(m.generate(idx, max_new_tokens=400)[0].tolist()))"
      ],
      "metadata": {
        "colab": {
          "base_uri": "https://localhost:8080/"
        },
        "id": "B_1Tk43eNmNp",
        "outputId": "dc6b54c5-9bdb-4ebf-fb8d-ce5471372bbe"
      },
      "execution_count": 46,
      "outputs": [
        {
          "output_type": "stream",
          "name": "stdout",
          "text": [
            "\n",
            "Aurnda\n",
            "\n",
            "ICLLIry t Whast\n",
            "\n",
            "Y l chi'l NI s doronanen,\n",
            "\n",
            "NTUCatealve CHer ckedot,\n",
            "A mutiavan'IDUS t relitof oule terefertin.\n",
            "Wou? n t gr m d goncouchas an wofll kinlath end fthain, saspo,\n",
            "S: s ct w, dicalas.\n",
            "Thyofourwhepiomue REWit whioubor be nouededgoum,\n",
            "An s, he, spourswam matonoral yoroooue fasofonglon:\n",
            "ATAnoutok an ICENTofowomy\n",
            "\n",
            "Es flld rmenin m:\n",
            "\n",
            "TIn igin bylled Fexthiche fr, s: I he yreay th pey\n"
          ]
        }
      ]
    }
  ]
}