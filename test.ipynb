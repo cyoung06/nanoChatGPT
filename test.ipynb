{
 "cells": [
  {
   "cell_type": "code",
   "execution_count": 3,
   "metadata": {},
   "outputs": [
    {
     "data": {
      "text/plain": [
       "'로그인 무림\\n\\n프롤로그\\n\\n러시아 속담에 이런 말이 있다.\\n\\n\\'공짜 치즈는 쥐덫 위에 있다.\\'\\n\\n지금 생각해 보면 그날의 모든 것이 누군가의 쥐덫이 아닌가 싶다.\\n\\n7년간 일했던 직장에서 잘려, 날씨는 우라지게 더워, 사는 곳은 언덕 두 개를 넘어야 하는 달동네지…….\\n\\n가까스로 올라와 숨을 고르던 중 눈에 들어온 것이다.\\n\\n가로등 밑, 낡은 게임 캡슐이.\\n\\n그다음은? 뻔하지, 뭐.\\n\\n하루아침에 실직자가 된 나는 배고픈 쥐였다. 눈앞의 공짜 치즈를 결코 외면할 수 없는.\\n\\n낑낑거리며 캡슐을 짊어지는 나를 바라보며 누군가는 손뼉을 치며 웃지 않았을까?\\n\\n멍청한 녀석이 덫에 걸렸구나! 하고.\\n\\n1 화\\n\\n“쓰레기네.”\\n\\n진호 형이 판사처럼 엄숙하게 선고했다. 그는 내가 살고 있는 고시원의 총무로, 올해 나이 서른의 고시생이 었다.\\n\\n나와는 세 살 차이로 제법 친한 사이기도 했고, IT계열에 빠삭하다고 입버릇처럼 말하던 것이 생각나 주워 온 캡슐을 보여 준 건데…….\\n\\n“그렇게 별로야?”\\n\\n“아니. 쓰레기라니까.”\\n\\n와, 한 치의 망설임도 없는 것 보소. 왠지 모르게 자존심이 상하는 느낌이다.\\n\\n“제대로 보지도 않았잖아.”\\n\\n말마따나 내부는 보지도 않았다.\\n그저 위아래로만 쓱 훑더니 대뜸 쓰레기란다. 적당한 중고 판매 가격을 생각하고 있던 나로서는 크나큰 심적 충격이다.\\n\\n\"태경아. 태경아. 진태경아. 너는 큰 오해를 하고 있구나.”\\n\\n\".....?\"\\n\\n“똥은 똥일 뿐이란다. 굳이 똥을 파헤쳐서 어제 먹은 콩나물까지 확인할 필요가 없는 거지. 딱 보기에도 똥이거든.”\\n\\n“아.”\\n\\n“쉿. 그 이상은 말하지 마. 우리 사이에 공치사 들으려고 한 말은 아니니까.”\\n\\n\"형…….\"\\n\\n죽여 버리고 싶다. 충동이 반영된 주먹이 부르르 떨리자 진호 형이 흠칫한다. 평생 책상머리에 앉아 있던 그와는 달리 나는 제법 위협적인 덩치의 소유자였다.\\n\\n“태경아. 우리 각성자 특별법 1조 12항을 되새겨 보자. 네가 지금 하려는 일은 각성자에 의한 민간인 폭행……\\n\\n“나 같은 F급 헌터는 각성'"
      ]
     },
     "execution_count": 3,
     "metadata": {},
     "output_type": "execute_result"
    }
   ],
   "source": [
    "with open(\"./dataset/korean_murim_book.txt\", \"r\", encoding=\"cp949\") as f:\n",
    "    text = f.read()\n",
    "\n",
    "text[:1000]"
   ]
  },
  {
   "cell_type": "code",
   "execution_count": 4,
   "metadata": {},
   "outputs": [],
   "source": [
    "import tiktoken\n",
    "enc = tiktoken.get_encoding(\"gpt2\")\n",
    "assert enc.decode(enc.encode(\"hello world\")) == \"hello world\"\n",
    "\n",
    "# To get the tokeniser corresponding to a specific model in the OpenAI API:\n",
    "enc = tiktoken.encoding_for_model(\"text-davinci-003\")"
   ]
  },
  {
   "cell_type": "code",
   "execution_count": 5,
   "metadata": {},
   "outputs": [
    {
     "data": {
      "text/plain": [
       "[167,\n",
       " 94,\n",
       " 250,\n",
       " 166,\n",
       " 115,\n",
       " 116,\n",
       " 35975,\n",
       " 116,\n",
       " 31619,\n",
       " 105,\n",
       " 112,\n",
       " 167,\n",
       " 99,\n",
       " 120,\n",
       " 198,\n",
       " 198,\n",
       " 169,\n",
       " 242,\n",
       " 226,\n",
       " 167,\n",
       " 94,\n",
       " 97,\n",
       " 167,\n",
       " 94,\n",
       " 250,\n",
       " 166,\n",
       " 115,\n",
       " 116,\n",
       " 198,\n",
       " 198,\n",
       " 167,\n",
       " 253,\n",
       " 105,\n",
       " 168,\n",
       " 233,\n",
       " 250,\n",
       " 168,\n",
       " 243,\n",
       " 226,\n",
       " 23821,\n",
       " 228,\n",
       " 235,\n",
       " 46695,\n",
       " 112,\n",
       " 168,\n",
       " 245,\n",
       " 238,\n",
       " 23821,\n",
       " 251,\n",
       " 112,\n",
       " 167,\n",
       " 253,\n",
       " 108,\n",
       " 31619,\n",
       " 100,\n",
       " 238,\n",
       " 35975,\n",
       " 112,\n",
       " 23821,\n",
       " 252,\n",
       " 230,\n",
       " 46695,\n",
       " 97,\n",
       " 13,\n",
       " 198,\n",
       " 198,\n",
       " 6,\n",
       " 166,\n",
       " 111,\n",
       " 113,\n",
       " 168,\n",
       " 100,\n",
       " 250,\n",
       " 23821,\n",
       " 117,\n",
       " 246,\n",
       " 168,\n",
       " 99,\n",
       " 230,\n",
       " 167,\n",
       " 232,\n",
       " 242,\n",
       " 23821,\n",
       " 98,\n",
       " 238,\n",
       " 167,\n",
       " 235,\n",
       " 104,\n",
       " 23821,\n",
       " 250,\n",
       " 226,\n",
       " 168,\n",
       " 245,\n",
       " 238,\n",
       " 23821,\n",
       " 252,\n",
       " 230,\n",
       " 46695,\n",
       " 97,\n",
       " 2637,\n",
       " 198,\n",
       " 198,\n",
       " 168,\n",
       " 100,\n",
       " 222,\n",
       " 166,\n",
       " 116,\n",
       " 230,\n",
       " 23821,\n",
       " 225,\n",
       " 251,\n",
       " 166,\n",
       " 108,\n",
       " 223,\n",
       " 47991,\n",
       " 112,\n",
       " 31619,\n",
       " 111,\n",
       " 112,\n",
       " 167,\n",
       " 102,\n",
       " 112,\n",
       " 220,\n",
       " 166,\n",
       " 115,\n",
       " 116,\n",
       " 167,\n",
       " 224,\n",
       " 254,\n",
       " 35975,\n",
       " 246,\n",
       " 31619,\n",
       " 103,\n",
       " 101,\n",
       " 167,\n",
       " 241,\n",
       " 254,\n",
       " 220,\n",
       " 166,\n",
       " 110,\n",
       " 225,\n",
       " 35975,\n",
       " 112,\n",
       " 31619,\n",
       " 230,\n",
       " 226,\n",
       " 166,\n",
       " 113,\n",
       " 108,\n",
       " 166,\n",
       " 108,\n",
       " 222,\n",
       " 35975,\n",
       " 246,\n",
       " 23821,\n",
       " 98,\n",
       " 238,\n",
       " 167,\n",
       " 235,\n",
       " 104,\n",
       " 35975,\n",
       " 112,\n",
       " 23821,\n",
       " 243,\n",
       " 226,\n",
       " 46695,\n",
       " 234,\n",
       " 166,\n",
       " 108,\n",
       " 222,\n",
       " 23821,\n",
       " 233,\n",
       " 114,\n",
       " 46695,\n",
       " 97,\n",
       " 13,\n",
       " 198,\n",
       " 198,\n",
       " 22,\n",
       " 167,\n",
       " 227,\n",
       " 226,\n",
       " 166,\n",
       " 108,\n",
       " 226,\n",
       " 23821,\n",
       " 251,\n",
       " 120,\n",
       " 169,\n",
       " 244,\n",
       " 230,\n",
       " 167,\n",
       " 235,\n",
       " 246,\n",
       " 23821,\n",
       " 100,\n",
       " 223]"
      ]
     },
     "execution_count": 5,
     "metadata": {},
     "output_type": "execute_result"
    }
   ],
   "source": [
    "enc.encode(text[:100])"
   ]
  },
  {
   "cell_type": "code",
   "execution_count": 6,
   "metadata": {},
   "outputs": [
    {
     "data": {
      "text/plain": [
       "50281"
      ]
     },
     "execution_count": 6,
     "metadata": {},
     "output_type": "execute_result"
    }
   ],
   "source": [
    "enc.n_vocab"
   ]
  },
  {
   "cell_type": "code",
   "execution_count": 7,
   "metadata": {},
   "outputs": [
    {
     "data": {
      "text/plain": [
       "4265743"
      ]
     },
     "execution_count": 7,
     "metadata": {},
     "output_type": "execute_result"
    }
   ],
   "source": [
    "len(text)"
   ]
  },
  {
   "cell_type": "code",
   "execution_count": 8,
   "metadata": {},
   "outputs": [
    {
     "data": {
      "text/plain": [
       "[27, 82, 29]"
      ]
     },
     "execution_count": 8,
     "metadata": {},
     "output_type": "execute_result"
    }
   ],
   "source": [
    "enc.encode(\"<s>\")"
   ]
  },
  {
   "cell_type": "code",
   "execution_count": 9,
   "metadata": {},
   "outputs": [],
   "source": [
    "with open(\"result.txt\", \"a\", encoding=\"cp949\") as f:\n",
    "    f.writelines(\"안녕하세요\\n\\n제 이름은 윤승현입니다.\")\n",
    "    f.close()"
   ]
  },
  {
   "cell_type": "code",
   "execution_count": null,
   "metadata": {},
   "outputs": [],
   "source": []
  }
 ],
 "metadata": {
  "kernelspec": {
   "display_name": "Python 3",
   "language": "python",
   "name": "python3"
  },
  "language_info": {
   "codemirror_mode": {
    "name": "ipython",
    "version": 3
   },
   "file_extension": ".py",
   "mimetype": "text/x-python",
   "name": "python",
   "nbconvert_exporter": "python",
   "pygments_lexer": "ipython3",
   "version": "3.9.16"
  },
  "orig_nbformat": 4,
  "vscode": {
   "interpreter": {
    "hash": "9585e0e58f3ada4c387d89b399b9d9bb88b52954ed4e2235f58d5a052e970ed6"
   }
  }
 },
 "nbformat": 4,
 "nbformat_minor": 2
}
